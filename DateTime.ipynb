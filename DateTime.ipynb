{
 "cells": [
  {
   "cell_type": "code",
   "execution_count": 64,
   "metadata": {},
   "outputs": [
    {
     "data": {
      "text/plain": [
       "datetime.datetime(2021, 2, 3, 18, 39, 36, 397843)"
      ]
     },
     "execution_count": 64,
     "metadata": {},
     "output_type": "execute_result"
    }
   ],
   "source": [
    "from datetime import datetime\n",
    "d = datetime.now() #today's datetime\n",
    "d"
   ]
  },
  {
   "cell_type": "code",
   "execution_count": 65,
   "metadata": {},
   "outputs": [
    {
     "name": "stdout",
     "output_type": "stream",
     "text": [
      "Weekday: 2\n",
      "Year: 2021\n",
      "Month: 2\n",
      "Day: 3\n",
      "Hour: 18\n",
      "Minute: 39\n",
      "Second: 36\n"
     ]
    }
   ],
   "source": [
    "print('Weekday:', d.weekday()) #day of week - Monday is 0 and Sunday is 6\n",
    "print('Year:', d.year)\n",
    "print('Month:', d.month)\n",
    "print('Day:', d.day)\n",
    "print('Hour:', d.hour)\n",
    "print('Minute:', d.minute)\n",
    "print('Second:', d.second)"
   ]
  },
  {
   "cell_type": "code",
   "execution_count": 68,
   "metadata": {},
   "outputs": [
    {
     "name": "stdout",
     "output_type": "stream",
     "text": [
      "Wednesday 03/02/2021\n"
     ]
    }
   ],
   "source": [
    "print(d.strftime(\"%A %d/%m/%Y\")) # date to string"
   ]
  },
  {
   "cell_type": "code",
   "execution_count": 69,
   "metadata": {},
   "outputs": [
    {
     "name": "stdout",
     "output_type": "stream",
     "text": [
      "2016-02-01 12:25:00\n",
      "2016-02-01 00:00:00\n"
     ]
    }
   ],
   "source": [
    "date_string = '2016-02-01 12:25PM'\n",
    "print(datetime.strptime(date_string, '%Y-%m-%d %I:%M%p'))\n",
    "\n",
    "date_string = '02/01/2016'\n",
    "d2 = datetime.strptime(date_string, '%m/%d/%Y')\n",
    "print(d2)"
   ]
  },
  {
   "cell_type": "code",
   "execution_count": 71,
   "metadata": {},
   "outputs": [
    {
     "name": "stdout",
     "output_type": "stream",
     "text": [
      "Time Now:  2021-02-03 18:48:09.191553\n",
      "Time to be Subtracted:  2016-02-01 00:00:00\n",
      "Difference:  1829 days, 18:48:09.191553\n"
     ]
    }
   ],
   "source": [
    "from datetime import timedelta\n",
    "d = datetime.now()\n",
    "print('Time Now: ', d)\n",
    "\n",
    "date_string = '2/01/2016'\n",
    "d2 = datetime.strptime(date_string, '%m/%d/%Y')\n",
    "print('Time to be Subtracted: ', d2)\n",
    "\n",
    "print('Difference: ', d - d2)"
   ]
  },
  {
   "cell_type": "code",
   "execution_count": 72,
   "metadata": {},
   "outputs": [
    {
     "name": "stdout",
     "output_type": "stream",
     "text": [
      "2021-02-03 18:48:10.191553\n",
      "2021-02-03 18:49:09.191553\n",
      "2021-02-03 19:48:09.191553\n",
      "2021-02-04 18:48:09.191553\n",
      "2021-02-10 18:48:09.191553\n",
      "2022-02-03 18:48:09.191553\n"
     ]
    }
   ],
   "source": [
    "print(d + timedelta(seconds=1)) # today + one second\n",
    "print(d + timedelta(minutes=1)) # today + one minute\n",
    "print(d + timedelta(hours=1)) # today + one hour\n",
    "print(d + timedelta(days=1)) # today + one day\n",
    "print(d + timedelta(weeks=1)) # today + one week\n",
    "print(d + timedelta(days=1)*365) # today + one year"
   ]
  },
  {
   "cell_type": "code",
   "execution_count": 24,
   "metadata": {},
   "outputs": [
    {
     "name": "stdout",
     "output_type": "stream",
     "text": [
      "date_diff = 1829.7150614640625 days\n"
     ]
    }
   ],
   "source": [
    "date_diff = (d - d2)/timedelta(days=1)\n",
    "print('date_diff = {} days'.format(date_diff))"
   ]
  },
  {
   "cell_type": "code",
   "execution_count": 25,
   "metadata": {},
   "outputs": [
    {
     "name": "stdout",
     "output_type": "stream",
     "text": [
      "date_diff = 261.3878659234375 weeks\n"
     ]
    }
   ],
   "source": [
    "date_diff = (d - d2)/timedelta(weeks=1)\n",
    "print('date_diff = {} weeks'.format(date_diff))"
   ]
  },
  {
   "cell_type": "code",
   "execution_count": 26,
   "metadata": {},
   "outputs": [
    {
     "name": "stdout",
     "output_type": "stream",
     "text": [
      "date_diff = 5.01291797661387 years\n"
     ]
    }
   ],
   "source": [
    "date_diff = (d - d2)/timedelta(days=365)\n",
    "print('date_diff = {} years'.format(date_diff))"
   ]
  },
  {
   "cell_type": "code",
   "execution_count": null,
   "metadata": {},
   "outputs": [],
   "source": []
  },
  {
   "cell_type": "code",
   "execution_count": 9,
   "metadata": {},
   "outputs": [
    {
     "name": "stdout",
     "output_type": "stream",
     "text": [
      "True\n",
      "False\n",
      "True\n",
      "False\n"
     ]
    }
   ],
   "source": [
    "print(d < (d2 +(timedelta(days=365*6)))) # d is no more than 6 years (assume each year has 365 days) after d2?\n",
    "print(d > (d2 +(timedelta(weeks=52*6)))) # d is more than 6 years (assume each year has 52 weeks) after d2?\n",
    "print(d != d2) # d2 is not the same date as d?\n",
    "print(d == d2) # d2 is the same date as d?"
   ]
  },
  {
   "cell_type": "code",
   "execution_count": 62,
   "metadata": {},
   "outputs": [
    {
     "name": "stdout",
     "output_type": "stream",
     "text": [
      "Wednesday February/03/2021\n",
      "Wednesday February/10/2021\n",
      "Wednesday February/17/2021\n",
      "Wednesday February/24/2021\n",
      "Wednesday March/03/2021\n",
      "Wednesday March/10/2021\n",
      "Wednesday March/17/2021\n",
      "Wednesday March/24/2021\n",
      "Wednesday March/31/2021\n",
      "Wednesday April/07/2021\n"
     ]
    }
   ],
   "source": [
    "dates = []\n",
    "for i in range(10):\n",
    "    new_time = d + timedelta(weeks=i)\n",
    "    dates.append(new_time.strftime(\"%A %m/%d/%Y\"))\n",
    "    print(new_time.strftime(\"%A %m/%d/%Y\"))"
   ]
  },
  {
   "cell_type": "code",
   "execution_count": 73,
   "metadata": {},
   "outputs": [
    {
     "data": {
      "text/plain": [
       "['Wednesday 02/03/2021',\n",
       " 'Wednesday 02/10/2021',\n",
       " 'Wednesday 02/17/2021',\n",
       " 'Wednesday 02/24/2021',\n",
       " 'Wednesday 03/03/2021',\n",
       " 'Wednesday 03/10/2021',\n",
       " 'Wednesday 03/17/2021',\n",
       " 'Wednesday 03/24/2021',\n",
       " 'Wednesday 03/31/2021',\n",
       " 'Wednesday 04/07/2021']"
      ]
     },
     "execution_count": 73,
     "metadata": {},
     "output_type": "execute_result"
    }
   ],
   "source": [
    "dates"
   ]
  },
  {
   "cell_type": "code",
   "execution_count": 75,
   "metadata": {},
   "outputs": [
    {
     "name": "stdout",
     "output_type": "stream",
     "text": [
      "Wednesday 03/February/2021\n",
      "Wednesday 10/February/2021\n",
      "Wednesday 17/February/2021\n",
      "Wednesday 24/February/2021\n",
      "Wednesday 03/March/2021\n",
      "Wednesday 10/March/2021\n",
      "Wednesday 17/March/2021\n",
      "Wednesday 24/March/2021\n",
      "Wednesday 31/March/2021\n",
      "Wednesday 07/April/2021\n"
     ]
    }
   ],
   "source": [
    "for i in dates:\n",
    "    dateTimeObj = datetime.strptime(i, '%A %m/%d/%Y')\n",
    "    print(dateTimeObj.strftime(\"%A %d/%B/%Y\"))"
   ]
  },
  {
   "cell_type": "code",
   "execution_count": null,
   "metadata": {},
   "outputs": [],
   "source": []
  },
  {
   "cell_type": "code",
   "execution_count": null,
   "metadata": {},
   "outputs": [],
   "source": []
  }
 ],
 "metadata": {
  "kernelspec": {
   "display_name": "Python 3",
   "language": "python",
   "name": "python3"
  },
  "language_info": {
   "codemirror_mode": {
    "name": "ipython",
    "version": 3
   },
   "file_extension": ".py",
   "mimetype": "text/x-python",
   "name": "python",
   "nbconvert_exporter": "python",
   "pygments_lexer": "ipython3",
   "version": "3.8.3"
  }
 },
 "nbformat": 4,
 "nbformat_minor": 4
}
